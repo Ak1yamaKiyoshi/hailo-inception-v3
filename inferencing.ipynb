{
 "cells": [
  {
   "cell_type": "code",
   "execution_count": 6,
   "metadata": {},
   "outputs": [
    {
     "name": "stdout",
     "output_type": "stream",
     "text": [
      "no change     /shared/anaconda3/condabin/conda\n",
      "no change     /shared/anaconda3/bin/conda\n",
      "no change     /shared/anaconda3/bin/conda-env\n",
      "no change     /shared/anaconda3/bin/activate\n",
      "no change     /shared/anaconda3/bin/deactivate\n",
      "no change     /shared/anaconda3/etc/profile.d/conda.sh\n",
      "no change     /shared/anaconda3/etc/fish/conf.d/conda.fish\n",
      "no change     /shared/anaconda3/shell/condabin/Conda.psm1\n",
      "no change     /shared/anaconda3/shell/condabin/conda-hook.ps1\n",
      "no change     /shared/anaconda3/lib/python3.11/site-packages/xontrib/conda.xsh\n",
      "no change     /shared/anaconda3/etc/profile.d/conda.csh\n",
      "no change     /home/akiyama/.bashrc\n",
      "No action taken.\n",
      "\n",
      "CondaError: Run 'conda init' before 'conda activate'\n",
      "\n",
      "\u001b[01m\u001b[Kinception_v3_inference.cpp:1:10:\u001b[m\u001b[K \u001b[01;31m\u001b[Kfatal error: \u001b[m\u001b[Khailo/hailort.hpp: No such file or directory\n",
      "    1 | #include \u001b[01;31m\u001b[K\"hailo/hailort.hpp\"\u001b[m\u001b[K\n",
      "      |          \u001b[01;31m\u001b[K^~~~~~~~~~~~~~~~~~~\u001b[m\u001b[K\n",
      "compilation terminated.\n"
     ]
    }
   ],
   "source": [
    "!g++ -std=c++14 inception_v3_inference.cpp -o inception_v3_inference `pkg-config --cflags --libs opencv4` -lhailort"
   ]
  }
 ],
 "metadata": {
  "kernelspec": {
   "display_name": "hailo",
   "language": "python",
   "name": "python3"
  },
  "language_info": {
   "codemirror_mode": {
    "name": "ipython",
    "version": 3
   },
   "file_extension": ".py",
   "mimetype": "text/x-python",
   "name": "python",
   "nbconvert_exporter": "python",
   "pygments_lexer": "ipython3",
   "version": "3.10.14"
  }
 },
 "nbformat": 4,
 "nbformat_minor": 2
}
